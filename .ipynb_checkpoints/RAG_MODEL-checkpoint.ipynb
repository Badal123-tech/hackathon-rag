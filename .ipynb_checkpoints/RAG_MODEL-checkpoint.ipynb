{
 "cells": [
  {
   "cell_type": "markdown",
   "id": "4c72fb5f-0bd4-44e6-87bd-fa89f6a15313",
   "metadata": {},
   "source": [
    "# Install Required Libraries"
   ]
  },
  {
   "cell_type": "code",
   "execution_count": null,
   "id": "5958d625-317e-425f-8aa5-250fc054f232",
   "metadata": {},
   "outputs": [],
   "source": [
    "!pip install datasets sentence-transformers faiss-cpu transformers -q"
   ]
  },
  {
   "cell_type": "markdown",
   "id": "a578e070-6615-42a9-b910-993aead87583",
   "metadata": {},
   "source": [
    "# Import Necessary Libraries"
   ]
  },
  {
   "cell_type": "code",
   "execution_count": null,
   "id": "c2283ecc-873b-4735-b16d-34a0b73b788e",
   "metadata": {},
   "outputs": [],
   "source": [
    "import faiss\n",
    "import numpy as np\n",
    "from datasets import load_dataset\n",
    "from sentence_transformers import SentenceTransformer\n",
    "from transformers import pipeline\n",
    "import random"
   ]
  },
  {
   "cell_type": "code",
   "execution_count": null,
   "id": "661bdbb0-f52e-41c5-8279-26c7644a9912",
   "metadata": {},
   "outputs": [],
   "source": []
  }
 ],
 "metadata": {
  "kernelspec": {
   "display_name": "Python 3 (ipykernel)",
   "language": "python",
   "name": "python3"
  },
  "language_info": {
   "codemirror_mode": {
    "name": "ipython",
    "version": 3
   },
   "file_extension": ".py",
   "mimetype": "text/x-python",
   "name": "python",
   "nbconvert_exporter": "python",
   "pygments_lexer": "ipython3",
   "version": "3.12.7"
  }
 },
 "nbformat": 4,
 "nbformat_minor": 5
}
