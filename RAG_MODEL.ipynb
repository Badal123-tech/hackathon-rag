{
 "cells": [
  {
   "cell_type": "markdown",
   "id": "4c72fb5f-0bd4-44e6-87bd-fa89f6a15313",
   "metadata": {},
   "source": [
    "# Install Required Libraries"
   ]
  },
  {
   "cell_type": "markdown",
   "id": "a578e070-6615-42a9-b910-993aead87583",
   "metadata": {},
   "source": [
    "# Import Necessary Libraries"
   ]
  },
  {
   "cell_type": "code",
   "execution_count": 1,
   "id": "2959fb65-3748-451c-9158-0a89a6bf537d",
   "metadata": {},
   "outputs": [],
   "source": [
    "import pandas as pd"
   ]
  },
  {
   "cell_type": "code",
   "execution_count": null,
   "id": "c74a4ae2-164a-41cc-b01e-c4bb5ff70f12",
   "metadata": {},
   "outputs": [],
   "source": [
    "!pip install datasets sentence-transformers faiss-cpu transformers -q\n"
   ]
  },
  {
   "cell_type": "code",
   "execution_count": null,
   "id": "20ea2758-6a45-4dab-a078-331590a09263",
   "metadata": {},
   "outputs": [],
   "source": []
  }
 ],
 "metadata": {
  "kernelspec": {
   "display_name": "Python 3 (ipykernel)",
   "language": "python",
   "name": "python3"
  },
  "language_info": {
   "codemirror_mode": {
    "name": "ipython",
    "version": 3
   },
   "file_extension": ".py",
   "mimetype": "text/x-python",
   "name": "python",
   "nbconvert_exporter": "python",
   "pygments_lexer": "ipython3",
   "version": "3.12.7"
  }
 },
 "nbformat": 4,
 "nbformat_minor": 5
}
